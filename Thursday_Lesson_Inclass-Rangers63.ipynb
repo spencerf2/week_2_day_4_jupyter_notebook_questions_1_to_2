{
 "cells": [
  {
   "cell_type": "markdown",
   "metadata": {},
   "source": [
    "# Object-Oriented-Programming (OOP)"
   ]
  },
  {
   "cell_type": "markdown",
   "metadata": {},
   "source": [
    "## Tasks Today:\n",
    "\n",
    "   \n",
    "\n",
    "1) <b>Creating a Class (Initializing/Declaring)</b> <br>\n",
    "2) <b>Using a Class (Instantiating)</b> <br>\n",
    " &nbsp;&nbsp;&nbsp;&nbsp; a) Creating One Instance <br>\n",
    " &nbsp;&nbsp;&nbsp;&nbsp; b) Creating Multiple Instances <br>\n",
    " &nbsp;&nbsp;&nbsp;&nbsp; c) In-Class Exercise #1 - Create a Class 'Car' and instantiate three different makes of cars <br>\n",
    "3) <b>The \\__init\\__() Method</b> <br>\n",
    " &nbsp;&nbsp;&nbsp;&nbsp; a) The 'self' Attribute <br>\n",
    "4) <b>Class Attributes</b> <br>\n",
    " &nbsp;&nbsp;&nbsp;&nbsp; a) Initializing Attributes <br>\n",
    " &nbsp;&nbsp;&nbsp;&nbsp; b) Setting an Attribute Outside of the \\__init\\__() Method <br>\n",
    " &nbsp;&nbsp;&nbsp;&nbsp; c) Setting Defaults for Attributes <br>\n",
    " &nbsp;&nbsp;&nbsp;&nbsp; d) Accessing Class Attributes <br>\n",
    " &nbsp;&nbsp;&nbsp;&nbsp; e) Changing Class Attributes <br>\n",
    " &nbsp;&nbsp;&nbsp;&nbsp; f) In-Class Exercise #2 - Add a color and wheels attribute to your 'Car' class <br>\n",
    "5) <b>Class Methods</b> <br>\n",
    " &nbsp;&nbsp;&nbsp;&nbsp; a) Creating <br>\n",
    " &nbsp;&nbsp;&nbsp;&nbsp; b) Calling <br>\n",
    " &nbsp;&nbsp;&nbsp;&nbsp; c) Modifying an Attribute's Value Through a Method <br>\n",
    " &nbsp;&nbsp;&nbsp;&nbsp; d) Incrementing an Attribute's Value Through a Method <br>\n",
    " &nbsp;&nbsp;&nbsp;&nbsp; e) In-Class Exercise #3 - Add a method that prints the cars color and wheel number, then call them <br>\n",
    "6) <b>Inheritance</b> <br>\n",
    " &nbsp;&nbsp;&nbsp;&nbsp; a) Syntax for Inheriting from a Parent Class <br>\n",
    " &nbsp;&nbsp;&nbsp;&nbsp; b) The \\__init\\__() Method for a Child Class (super()) <br>\n",
    " &nbsp;&nbsp;&nbsp;&nbsp; c) Defining Attributes and Methods for the Child Class <br>\n",
    " &nbsp;&nbsp;&nbsp;&nbsp; d) Method Overriding <br>\n",
    " &nbsp;&nbsp;&nbsp;&nbsp; e) In-Class Exercise #4 - Create a class 'Ford' that inherits from 'Car' class and initialize it as a Blue Ford Explorer with 4 wheels using the super() method <br>\n",
    "7) <b>Classes as Attributes</b> <br>\n",
    "8) <b>Exercises</b> <br>\n",
    " &nbsp;&nbsp;&nbsp;&nbsp; a) Exercise #1 - Turn the shopping cart program from yesterday into an object-oriented program <br>"
   ]
  },
  {
   "cell_type": "markdown",
   "metadata": {},
   "source": [
    "## Creating a Class (Initializing/Declaring)\n",
    "<p>When creating a class, function, or even a variable you are initializing that object. Initializing and Declaring occur at the same time in Python, whereas in lower level languages you have to declare an object before initializing it. This is the first step in the process of using a class.</p>"
   ]
  },
  {
   "cell_type": "code",
   "execution_count": 8,
   "metadata": {},
   "outputs": [],
   "source": [
    "class Car():\n",
    "    wheels = 4\n",
    "    color = 'blue'\n",
    "    horn = \"awoooooooga\""
   ]
  },
  {
   "cell_type": "markdown",
   "metadata": {},
   "source": [
    "## Using a Class (Instantiating)\n",
    "<p>The process of creating a class is called <i>Instantiating</i>. Each time you create a variable of that type of class, it is referred to as an <i>Instance</i> of that class. This is the second step in the process of using a class.</p>"
   ]
  },
  {
   "cell_type": "markdown",
   "metadata": {},
   "source": [
    "##### Creating One Instance"
   ]
  },
  {
   "cell_type": "code",
   "execution_count": 9,
   "metadata": {},
   "outputs": [
    {
     "name": "stdout",
     "output_type": "stream",
     "text": [
      "blue\n",
      "4\n"
     ]
    }
   ],
   "source": [
    "ford = Car()\n",
    "\n",
    "print(ford.color)\n",
    "print(ford.wheels)"
   ]
  },
  {
   "cell_type": "markdown",
   "metadata": {},
   "source": [
    "##### Creating Multiple Instances"
   ]
  },
  {
   "cell_type": "code",
   "execution_count": 10,
   "metadata": {},
   "outputs": [
    {
     "name": "stdout",
     "output_type": "stream",
     "text": [
      "<class 'str'>\n",
      "awoooooooga\n"
     ]
    }
   ],
   "source": [
    "mazda = Car()\n",
    "honda = Car()\n",
    "porsche = Car()\n",
    "toyota = Car()\n",
    "\n",
    "print(type(porsche.color))\n",
    "print(porsche.horn)"
   ]
  },
  {
   "cell_type": "markdown",
   "metadata": {},
   "source": [
    "##### In-Class Exercise #1 - Create a Class 'Car' and Instantiate three different makes of cars"
   ]
  },
  {
   "cell_type": "code",
   "execution_count": 12,
   "metadata": {},
   "outputs": [
    {
     "name": "stdout",
     "output_type": "stream",
     "text": [
      "500\n"
     ]
    }
   ],
   "source": [
    "class Car():\n",
    "    milage = 500\n",
    "    mpg = 30\n",
    "    \n",
    "mercedes = Car()\n",
    "volvo = Car()\n",
    "astin_martin = Car()\n",
    "\n",
    "print(mercedes.milage)"
   ]
  },
  {
   "cell_type": "markdown",
   "metadata": {},
   "source": [
    "## The \\__init\\__() Method <br>\n",
    "<p>This method is used in almost every created class, and called only once upon the creation of the class instance. This method will initialize all variables needed for the object.</p>"
   ]
  },
  {
   "cell_type": "code",
   "execution_count": 24,
   "metadata": {},
   "outputs": [
    {
     "name": "stdout",
     "output_type": "stream",
     "text": [
      "4\n",
      "this car moves a little bit\n",
      "6\n"
     ]
    }
   ],
   "source": [
    "class Car():\n",
    "    engine = '4.7L' # constant-attribute\n",
    "    \n",
    "    def __init__(self,wheels,color):\n",
    "        self.wheels = wheels\n",
    "        self.color = color\n",
    "        \n",
    "    def move_alittle_bit(self):\n",
    "        print(\"this car moves a little bit\")\n",
    "        \n",
    "fiat = Car(4,'white')\n",
    "chevy_lumina = Car(6, 'black')\n",
    "\n",
    "print(fiat.wheels)\n",
    "fiat.move_alittle_bit()\n",
    "print(chevy_lumina.wheels)"
   ]
  },
  {
   "cell_type": "markdown",
   "metadata": {},
   "source": [
    "##### The 'self' Attribute <br>\n",
    "<p>This attribute is required to keep track of specific instance's attributes. Without the self attribute, the program would not know how to reference or keep track of an instance's attributes.</p>"
   ]
  },
  {
   "cell_type": "code",
   "execution_count": null,
   "metadata": {},
   "outputs": [],
   "source": [
    "# see above"
   ]
  },
  {
   "cell_type": "markdown",
   "metadata": {},
   "source": [
    "## Class Attributes <br>\n",
    "<p>While variables are inside of a class, they are referred to as attributes and not variables. When someone says 'attribute' you know they're speaking about a class. Attributes can be initialized through the init method, or outside of it.</p>"
   ]
  },
  {
   "cell_type": "markdown",
   "metadata": {},
   "source": [
    "##### Initializing Attributes"
   ]
  },
  {
   "cell_type": "code",
   "execution_count": 42,
   "metadata": {},
   "outputs": [
    {
     "name": "stdout",
     "output_type": "stream",
     "text": [
      "car\n",
      "True\n",
      "car\n",
      "tiny\n",
      "car\n",
      "many colors\n"
     ]
    }
   ],
   "source": [
    "# see above\n",
    "\n",
    "class Toy():\n",
    "    KIND = \"car\" # Constant - DOES NOT CHANGE FREQUENTLY\n",
    "    \n",
    "    def __init__(self, color, size, remote_controlled):\n",
    "        self.color = color\n",
    "        self.size = size\n",
    "        self.remote_controlled = remote_controlled\n",
    "\n",
    "flippy_guy_car = Toy(\"red and also kind of green\", \"medium\", True)\n",
    "hotwheels = Toy(\"many colors\", \"tiny\", False)\n",
    "\n",
    "print(flippy_guy_car.KIND)\n",
    "print(flippy_guy_car.remote_controlled)\n",
    "print(hotwheels.KIND)\n",
    "print(hotwheels.size)\n",
    "print(hotwheels.KIND)\n",
    "print(hotwheels.color)\n",
    "tanka_truck = Toy(1,1,4) # 1 rooftop, 1 horn, 4 wheels\n",
    "# hotwheels_car = Toy(\"\"2, 3, 8) # 2 rooftops, 3 horns, 8 wheels"
   ]
  },
  {
   "cell_type": "markdown",
   "metadata": {},
   "source": [
    "##### Accessing Class Attributes"
   ]
  },
  {
   "cell_type": "code",
   "execution_count": 30,
   "metadata": {
    "scrolled": true
   },
   "outputs": [
    {
     "data": {
      "text/plain": [
       "''"
      ]
     },
     "execution_count": 30,
     "metadata": {},
     "output_type": "execute_result"
    }
   ],
   "source": [
    "# See Above\n",
    "hotwheels.rooftop"
   ]
  },
  {
   "cell_type": "markdown",
   "metadata": {},
   "source": [
    "##### Setting Defaults for Attributes"
   ]
  },
  {
   "cell_type": "code",
   "execution_count": 31,
   "metadata": {},
   "outputs": [
    {
     "name": "stdout",
     "output_type": "stream",
     "text": [
      "8\n",
      "Blue\n"
     ]
    }
   ],
   "source": [
    "class Car():\n",
    "    ENGINE = '4.7L'\n",
    "    \n",
    "    def __init__(self,wheels):\n",
    "        self.wheels = wheels\n",
    "        self.color = 'Blue' # Default Attribute\n",
    "\n",
    "jeep = Car(8)\n",
    "honda = Car(4)\n",
    "print(jeep.wheels)\n",
    "print(jeep.color)"
   ]
  },
  {
   "cell_type": "markdown",
   "metadata": {},
   "source": [
    "##### Changing Class Attributes <br>\n",
    "<p>Keep in mind there are global class attributes and then there are attributes only available to each class instance which won't effect other classes.</p>"
   ]
  },
  {
   "cell_type": "code",
   "execution_count": 32,
   "metadata": {},
   "outputs": [
    {
     "name": "stdout",
     "output_type": "stream",
     "text": [
      "BEFORE CHANGE: Blue\n",
      "\n",
      " AFTER CHANGE: White\n"
     ]
    }
   ],
   "source": [
    "# Changing the Default Attribute for this example\n",
    "print(f'BEFORE CHANGE: {jeep.color}')\n",
    "\n",
    "jeep.color = 'White'\n",
    "\n",
    "print(f'\\n AFTER CHANGE: {jeep.color}')\n"
   ]
  },
  {
   "cell_type": "code",
   "execution_count": null,
   "metadata": {},
   "outputs": [],
   "source": []
  },
  {
   "cell_type": "markdown",
   "metadata": {},
   "source": [
    "##### In-Class Exercise #2 - Add a doors and seats attribute to your 'Car' class then print out two different instances with different doors and seats"
   ]
  },
  {
   "cell_type": "code",
   "execution_count": 46,
   "metadata": {},
   "outputs": [
    {
     "name": "stdout",
     "output_type": "stream",
     "text": [
      "4\n",
      "green\n",
      "5\n",
      "2\n",
      "6\n",
      "green\n",
      "5\n",
      "2\n"
     ]
    }
   ],
   "source": [
    "class Car():\n",
    "    ENGINE = '4.7L'\n",
    "    \n",
    "    def __init__(self,wheels, color=\"blue\", doors=4, seats=4):\n",
    "        self.wheels = wheels\n",
    "        self.color = color # Default Attribute\n",
    "        self.doors = doors\n",
    "        self.seats = seats\n",
    "\n",
    "jeep.wheels = 4\n",
    "jeep.color = \"green\"\n",
    "jeep.doors = 5\n",
    "jeep.seats = 2\n",
    "\n",
    "toyota = Car(6, \"green\", 5, 2)\n",
    "\n",
    "print(jeep.wheels)\n",
    "print(jeep.color)\n",
    "print(jeep.doors)\n",
    "print(jeep.seats)\n",
    "\n",
    "print(toyota.wheels)\n",
    "print(toyota.color)\n",
    "print(toyota.doors)\n",
    "print(jeep.seats)"
   ]
  },
  {
   "cell_type": "markdown",
   "metadata": {},
   "source": [
    "## Class Methods <br>\n",
    "<p>While inside of a class, functions are referred to as 'methods'. If you hear someone mention methods, they're speaking about classes. Methods are essentially functions, but only callable on the instances of a class.</p>"
   ]
  },
  {
   "cell_type": "markdown",
   "metadata": {},
   "source": [
    "##### Creating"
   ]
  },
  {
   "cell_type": "code",
   "execution_count": null,
   "metadata": {},
   "outputs": [],
   "source": [
    "class ShoppingBag():\n",
    "    \"\"\"\n",
    "        The ShoppingBag Class will have handles, capacity and items\n",
    "        to place inside.\n",
    "        \n",
    "        Attributes for the class:\n",
    "        - handles: expected to be an integer\n",
    "        - capacity: expected to be a string OR an integer\n",
    "        - items: expected to be a list\n",
    "    \"\"\"\n",
    "    \n",
    "    def __init__(self,handles,capacity,items):\n",
    "        self.handles = handles\n",
    "        self.capacity = capacity\n",
    "        self.items = items\n",
    "        \n",
    "    # Method that shows the shoppingBag items\n",
    "    def showShoppingBag(self):\n",
    "        print(\"You Have items in your bag!!!\")\n",
    "        for item in self.items:\n",
    "            print(item)\n",
    "    \n",
    "    # Show capacity of shoppingBag\n",
    "    def showCapacity(self):\n",
    "        print(f'Your Capacity is: {self.capacity}')\n",
    "        \n",
    "    # Add Item(s) to the items list for the shoppingBag\n",
    "    def addToShoppingBag(self):\n",
    "        products = input('What would you like to add? ')\n",
    "        self.items.append(products)\n",
    "        \n",
    "    # Change the capacity of the shoppingBag (dynamically)\n",
    "    def changeBagCapacity(self, capacity):\n",
    "        self.capacity = capacity\n",
    "        \n",
    "    # Increase Capacity of the shoppingBag by 10 -- default\n",
    "    def increaseCapacity(self, changed_capacity = 10):\n",
    "        if self.capacity == isinstance(self.capacity, str):\n",
    "            print(\"We can't do that here boss...\")\n",
    "        else:\n",
    "            self.capacity += changed_capacity"
   ]
  },
  {
   "cell_type": "code",
   "execution_count": 51,
   "metadata": {},
   "outputs": [],
   "source": [
    "# Ryan example in class\n",
    "\n",
    "class Inventory():\n",
    "    \"\"\"\n",
    "    The Inventory class will have capacity and items that we can place inside\n",
    "    \n",
    "    Attributes for the class:\n",
    "    -capacity: expected a string OR an integer\n",
    "    -items: expected to be a list\n",
    "    \"\"\"\n",
    "    \n",
    "    def __init__(self, capacity, items):\n",
    "        self.capacity = capacity\n",
    "        self.items = items\n",
    "        \n",
    "    # Method that shows our inventory\n",
    "    def show_inventory(self):\n",
    "        print(\"Here are your adventuring supplies: \")\n",
    "        if self.items == []:\n",
    "            print(\"You have no loots!\")\n",
    "        else:\n",
    "            for item in self.items:\n",
    "                print(item)\n",
    "    \n",
    "    # Show capacity of Inventory\n",
    "    def show_capacity(self):\n",
    "        print(f\"Your carrying capacity is: {self.capacity}\")\n",
    "        \n",
    "    # Add item(s) to your items list for your inventory\n",
    "    def add_to_inventory(self):\n",
    "        supplies = input(\"What dank loots have you gathered? \")\n",
    "        self.items.append(supplies)\n",
    "    \n",
    "    # Change the capacity of our Inventory\n",
    "    def change_inventory_capacity(self, capacity):\n",
    "        self.capacity = capacity\n",
    "        \n",
    "    # Increase Capacity of our Inventory by 10 -- default\n",
    "    def increase_capacity(self, changed_capacity = 10):\n",
    "        if self.capacity == isinstance(self.capacity, str):\n",
    "            print(\"You shall not pass....that into your inventory\")\n",
    "        else:\n",
    "            self.capacity += changed_capacity"
   ]
  },
  {
   "cell_type": "markdown",
   "metadata": {},
   "source": [
    "##### Calling"
   ]
  },
  {
   "cell_type": "code",
   "execution_count": null,
   "metadata": {},
   "outputs": [],
   "source": [
    "# See Above\n",
    "# Created and instance of the ShoppingBag Class\n",
    "wholeFoods_bag = ShoppingBag(2,10,[])\n",
    "\n",
    "# Create Function to run the shoppingBag(wholeFoods_bag) methods\n",
    "\n",
    "def run():\n",
    "    while True:\n",
    "        response = input('What do you want to do? add/show/ or quit')\n",
    "        \n",
    "        if response.lower() == 'quit':\n",
    "            wholeFoods_bag.showShoppingBag()\n",
    "            print('Thanks for shopping')\n",
    "            break\n",
    "        elif response.lower() == 'add':\n",
    "            wholeFoods_bag.addToShoppingBag()\n",
    "            \n",
    "        elif response.lower() == 'show':\n",
    "            wholeFoods_bag.showShoppingBag()\n",
    "            \n",
    "run()"
   ]
  },
  {
   "cell_type": "code",
   "execution_count": 52,
   "metadata": {},
   "outputs": [
    {
     "name": "stdout",
     "output_type": "stream",
     "text": [
      "What would you like to do? add/show/quitadd\n",
      "What dank loots have you gathered? +1 staff\n",
      "What would you like to do? add/show/quitadd\n",
      "What dank loots have you gathered? Sick wizard hat\n",
      "What would you like to do? add/show/quitshow\n",
      "Here are your adventuring supplies: \n",
      "+1 staff\n",
      "Sick wizard hat\n",
      "What would you like to do? add/show/quitquit\n",
      "Here are your adventuring supplies: \n",
      "+1 staff\n",
      "Sick wizard hat\n",
      "ONWARD! YOUR QUEST IS YET TO BE COMPLETED!\n"
     ]
    }
   ],
   "source": [
    "# See Above\n",
    "# Create an instance of our Inventory Class\n",
    "wizard_bag = Inventory(10, [])\n",
    "\n",
    "# Create a function to run the Inventory(wizard_bag) methods\n",
    "\n",
    "def run():\n",
    "    while True:\n",
    "        response = input(\"What would you like to do? add/show/quit\")\n",
    "        \n",
    "        if response.lower() == \"quit\":\n",
    "            wizard_bag.show_inventory()\n",
    "            print(\"ONWARD! YOUR QUEST IS YET TO BE COMPLETED!\")\n",
    "            break\n",
    "        elif response.lower() == \"add\":\n",
    "            wizard_bag.add_to_inventory()\n",
    "        elif response.lower() == \"show\":\n",
    "            wizard_bag.show_inventory()\n",
    "        \n",
    "run()\n"
   ]
  },
  {
   "cell_type": "markdown",
   "metadata": {},
   "source": [
    "##### Modifying an Attribute's Value Through a Method"
   ]
  },
  {
   "cell_type": "code",
   "execution_count": null,
   "metadata": {},
   "outputs": [],
   "source": [
    "# Show Capacity\n",
    "wholeFoods_bag.showCapacity()\n",
    "print('Capacity AFTER the change...')\n",
    "wholeFoods_bag.changeBagCapacity(40)\n",
    "wholeFoods_bag.showCapacity()"
   ]
  },
  {
   "cell_type": "code",
   "execution_count": 58,
   "metadata": {},
   "outputs": [
    {
     "name": "stdout",
     "output_type": "stream",
     "text": [
      "Your carrying capacity is: 5\n",
      "Capacity AFTER the change...\n",
      "Your carrying capacity is: 5\n"
     ]
    }
   ],
   "source": [
    "# Show Capacity\n",
    "wizard_bag.show_capacity()\n",
    "print(\"Capacity AFTER the change...\")\n",
    "wizard_bag.change_inventory_capacity(5)\n",
    "wizard_bag.show_capacity()"
   ]
  },
  {
   "cell_type": "markdown",
   "metadata": {},
   "source": [
    "##### Incrementing an Attribute's Value Through a Method"
   ]
  },
  {
   "cell_type": "code",
   "execution_count": null,
   "metadata": {},
   "outputs": [],
   "source": [
    "wholeFoods_bag.showCapacity()\n",
    "print('After Increase')\n",
    "wholeFoods_bag.increaseCapacity()\n",
    "wholeFoods_bag.showCapacity()"
   ]
  },
  {
   "cell_type": "code",
   "execution_count": 61,
   "metadata": {},
   "outputs": [
    {
     "name": "stdout",
     "output_type": "stream",
     "text": [
      "Your carrying capacity is: 25\n",
      "Capacity after increment method change: \n",
      "Your carrying capacity is: 35\n"
     ]
    }
   ],
   "source": [
    "# Incrementing our carrying capacity:\n",
    "wizard_bag.show_capacity()\n",
    "print(\"Capacity after increment method change: \")\n",
    "wizard_bag.increase_capacity()\n",
    "wizard_bag.show_capacity()"
   ]
  },
  {
   "cell_type": "markdown",
   "metadata": {},
   "source": [
    "##### In-Class Exercise #3 - Add a method that takes in three parameters of year, doors and seats and prints out a formatted print statement with make, model, year, seats, and doors"
   ]
  },
  {
   "cell_type": "code",
   "execution_count": 76,
   "metadata": {},
   "outputs": [
    {
     "name": "stdout",
     "output_type": "stream",
     "text": [
      "honda\n",
      "accord\n",
      "This car is from 1999 and is a honda accord and has 2 doors and 4 seats\n"
     ]
    }
   ],
   "source": [
    "# Create class with 2 paramters inside of the __init__ which are make and model\n",
    "\n",
    "# Inside of the Car class create a method that has 4 parameter in total (self,year,door,seats)\n",
    "\n",
    "# Output: This car is from 2019 and is a Ford Expolorer and has 4 doors and 5 seats\n",
    "\n",
    "class Car():\n",
    "    \n",
    "    def __init__(self, make, model):\n",
    "        self.make = make\n",
    "        self.model = model\n",
    "        \n",
    "    def print_details(self, year, door=4, seats=5):\n",
    "        self.year = year\n",
    "        self.door = door\n",
    "        self.seats = seats\n",
    "        print(f\"This car is from {self.year} and is a {self.make} {self.model} and has {self.door} doors and {self.seats} seats\")\n",
    "\n",
    "toyota = Car(\"honda\", \"accord\")\n",
    "print(toyota.make)\n",
    "print(toyota.model)\n",
    "toyota.print_details(1999, 2, 4)"
   ]
  },
  {
   "cell_type": "markdown",
   "metadata": {},
   "source": [
    "## Inheritance <br>\n",
    "<p>You can create a child-parent relationship between two classes by using inheritance. What this allows you to do is have overriding methods, but also inherit traits from the parent class. Think of it as an actual parent and child, the child will inherit the parent's genes, as will the classes in OOP</p>"
   ]
  },
  {
   "cell_type": "markdown",
   "metadata": {},
   "source": [
    "##### Syntax for Inheriting from a Parent Class"
   ]
  },
  {
   "cell_type": "code",
   "execution_count": 88,
   "metadata": {},
   "outputs": [
    {
     "name": "stdout",
     "output_type": "stream",
     "text": [
      "Roooooo\n",
      "Make Some Generic Sound, like a grunt or something idk\n",
      "9.8\n",
      "15\n"
     ]
    }
   ],
   "source": [
    "# Creation of our Parent Class -- Animal\n",
    "class Animal():\n",
    "    ACCELERATION = 9.8\n",
    "    \n",
    "    def __init__(self,name,species,legs = 4):\n",
    "        self.name = name\n",
    "        self.species = species\n",
    "        self.legs = legs\n",
    "        \n",
    "    # Generic Parent(Animal) Method -- NO OVERRIDE YET\n",
    "    def makeSound(self):\n",
    "        print('Make Some Generic Sound, like a grunt or something idk')\n",
    "        \n",
    "# Creation of our Child Class -- Dog\n",
    "class Dog(Animal):\n",
    "    SPEED = 15\n",
    "    \n",
    "    def printInfo(self):\n",
    "        print(f\"The Dog can run {self.SPEED}mph in speed and can accelerate at {self.ACCELERATION}\")\n",
    "        \n",
    "\n",
    "# Creation of our Grand-Child Class -- Mut\n",
    "class Mut(Dog):\n",
    "    COLOR = 'light brownish'\n",
    "    #Defining methods and attributes for child class\n",
    "    # Overriding of the ANIMAL Class __init__ method (by way of using the Dog class)\n",
    "    def __init__(self, name, species, eye_color, legs = 4):\n",
    "        Dog.__init__(self, name, species, legs) \n",
    "        self.eye_color = eye_color\n",
    "        \n",
    "    # Overide the makeSound method (again coming from the ANIMAL class)\n",
    "    def makeSound(self):\n",
    "        noise = 'Roooooo'\n",
    "        return noise\n",
    "        \n",
    "lassie = Dog('Lassie', 'Dog')\n",
    "basic_animal = Animal('Generic Animal Name', 'Generic Animal Species')\n",
    "eyo = Mut('Eyo', 'Mut', 'black')\n",
    "\n",
    "print(eyo.makeSound())\n",
    "basic_animal.makeSound()\n",
    "print(eyo.ACCELERATION)\n",
    "print(eyo.SPEED)\n",
    "\n",
    "# Checking the inheritance tree for our Mut class\n"
   ]
  },
  {
   "cell_type": "markdown",
   "metadata": {},
   "source": [
    "##### The \\__init\\__() Method for a Child Class - super()"
   ]
  },
  {
   "cell_type": "code",
   "execution_count": 92,
   "metadata": {
    "scrolled": true
   },
   "outputs": [
    {
     "name": "stdout",
     "output_type": "stream",
     "text": [
      "Make Some Generic Sound, like a grunt or something idk\n",
      "Make Some Generic Sound, like a grunt or something idk\n",
      "AWOOOO\n",
      "9.8\n",
      "Help on class Mut in module __main__:\n",
      "\n",
      "class Mut(Dog)\n",
      " |  Mut(name, species, eye_color, legs=4)\n",
      " |  \n",
      " |  Method resolution order:\n",
      " |      Mut\n",
      " |      Dog\n",
      " |      Animal\n",
      " |      builtins.object\n",
      " |  \n",
      " |  Methods defined here:\n",
      " |  \n",
      " |  __init__(self, name, species, eye_color, legs=4)\n",
      " |      Initialize self.  See help(type(self)) for accurate signature.\n",
      " |  \n",
      " |  makeSound(self)\n",
      " |      # Overide the makeSound method (again coming from the ANIMAL class)\n",
      " |  \n",
      " |  ----------------------------------------------------------------------\n",
      " |  Data and other attributes defined here:\n",
      " |  \n",
      " |  COLOR = 'light brownish'\n",
      " |  \n",
      " |  ----------------------------------------------------------------------\n",
      " |  Methods inherited from Dog:\n",
      " |  \n",
      " |  printInfo(self)\n",
      " |  \n",
      " |  ----------------------------------------------------------------------\n",
      " |  Data and other attributes inherited from Dog:\n",
      " |  \n",
      " |  SPEED = 15\n",
      " |  \n",
      " |  ----------------------------------------------------------------------\n",
      " |  Data descriptors inherited from Animal:\n",
      " |  \n",
      " |  __dict__\n",
      " |      dictionary for instance variables (if defined)\n",
      " |  \n",
      " |  __weakref__\n",
      " |      list of weak references to the object (if defined)\n",
      " |  \n",
      " |  ----------------------------------------------------------------------\n",
      " |  Data and other attributes inherited from Animal:\n",
      " |  \n",
      " |  ACCELERATION = 9.8\n",
      "\n"
     ]
    }
   ],
   "source": [
    "class Mut(Dog):\n",
    "    COLOR = 'light brownish'\n",
    "    \n",
    "    # Overriding of the ANIMAL Class __init__ method (by way of using the Dog class)\n",
    "    def __init__(self, name, species, eye_color, legs = 4):\n",
    "        super().__init__(name, species, legs) \n",
    "        self.eye_color = eye_color\n",
    "    #method overriding\n",
    "    # Overide the makeSound method (again coming from the ANIMAL class)\n",
    "    def makeSound(self):\n",
    "        noise = 'AWOOOO'\n",
    "        return noise\n",
    "    \n",
    "lassie = Dog('Lassie', 'Dog')\n",
    "basic_animal = Animal('Generic Animal Name', 'Generic Animal Species')\n",
    "buster = Mut('Buster', 'Mut', 'black')\n",
    "\n",
    "lassie.makeSound()\n",
    "basic_animal.makeSound()\n",
    "print(buster.makeSound())\n",
    "print(buster.ACCELERATION)\n",
    "\n",
    "help(Mut)"
   ]
  },
  {
   "cell_type": "markdown",
   "metadata": {},
   "source": [
    "##### Defining Attributes and Methods for the Child Class"
   ]
  },
  {
   "cell_type": "code",
   "execution_count": null,
   "metadata": {},
   "outputs": [],
   "source": [
    "# See Above"
   ]
  },
  {
   "cell_type": "markdown",
   "metadata": {},
   "source": [
    "##### Method Overriding"
   ]
  },
  {
   "cell_type": "code",
   "execution_count": null,
   "metadata": {},
   "outputs": [],
   "source": [
    "# See Above"
   ]
  },
  {
   "cell_type": "markdown",
   "metadata": {},
   "source": [
    "## Classes as Attributes <br>\n",
    "<p>Classes can also be used as attributes within another class. This is useful in situations where you need to keep variables locally stored, instead of globally stored.</p>"
   ]
  },
  {
   "cell_type": "code",
   "execution_count": 96,
   "metadata": {},
   "outputs": [
    {
     "name": "stdout",
     "output_type": "stream",
     "text": [
      "20\n"
     ]
    },
    {
     "data": {
      "text/plain": [
       "'2008 Toyota Prius 20'"
      ]
     },
     "execution_count": 96,
     "metadata": {},
     "output_type": "execute_result"
    }
   ],
   "source": [
    "class Battery():\n",
    "    VOLTS = 7.8\n",
    "    \n",
    "    def __init__(self, cells):\n",
    "        self.cells = cells\n",
    "\n",
    "class Car():\n",
    "    def __init__(self, year, make, model, battery):\n",
    "        self.year = year\n",
    "        self.make = make\n",
    "        self.model = model\n",
    "        self.battery = battery\n",
    "        \n",
    "    def printInfo(self):\n",
    "        return f'{self.year} {self.make} {self.model} {self.battery.cells}'\n",
    "    \n",
    "battery = Battery(20)\n",
    "\n",
    "prius = Car(2008, 'Toyota', \"Prius\", battery)\n",
    "\n",
    "# prius.__dict__\n",
    "print(prius.battery.cells)\n",
    "prius.printInfo()"
   ]
  },
  {
   "cell_type": "markdown",
   "metadata": {},
   "source": [
    "# Exercises"
   ]
  },
  {
   "cell_type": "markdown",
   "metadata": {},
   "source": [
    "### Exercise 1 - Turn the shopping cart program from yesterday into an object-oriented program\n",
    "\n",
    "The comments in the cell below are there as a guide for thinking about the problem. However, if you feel a different way is best for you and your own thought process, please do what feels best for you by all means."
   ]
  },
  {
   "cell_type": "code",
   "execution_count": 115,
   "metadata": {},
   "outputs": [
    {
     "name": "stdout",
     "output_type": "stream",
     "text": [
      "You purchased\n",
      "You have the following in your cart: \n",
      "So far you have:\n",
      "\twater which costs 3.00\n",
      "And your total is 3.00.\n"
     ]
    }
   ],
   "source": [
    "# Create a class called cart that retains items and has methods to add, remove, and show\n",
    "\n",
    "from IPython.display import clear_output\n",
    "\n",
    "class Cart():\n",
    "    \"\"\"\n",
    "    The Cart class will have a dictionary called items,\n",
    "    which contain items and their prices.\n",
    "    \n",
    "    Attributes for the class:\n",
    "    -items: expected to be a list\n",
    "    \"\"\"\n",
    "    \n",
    "    def __init__(self, items):\n",
    "        self.items = items\n",
    "        \n",
    "    # Method that shows our cart\n",
    "    def show(self):\n",
    "        print(\"You have the following in your cart: \")\n",
    "        if self.items == {}:\n",
    "            print(\"You don't have any items in your cart!\")\n",
    "        else:\n",
    "            print(\"So far you have:\")\n",
    "            for item, price in self.items.items():\n",
    "                print(f\"\\t{item} which costs ${price:.2f}\")\n",
    "            total = 0\n",
    "            for price in self.items.values():\n",
    "                total += price\n",
    "            print(\"And your total is ${0:.2f}.\".format(total))\n",
    "            \n",
    "        \n",
    "    # Add item and it's price to cart\n",
    "    def add_to_cart(self):\n",
    "        supplies = input(\"What would you like add? \")\n",
    "        cost = float(input(\"How much does it cost? \").lstrip(\"$\"))\n",
    "        self.items[supplies] = cost\n",
    "        \n",
    "    # Delete item from cart\n",
    "    def remove_from_cart(self):\n",
    "        supplies = input(\"What would you like to remove? \")\n",
    "        self.items.pop(supplies)\n",
    "\n",
    "cart = Cart({})\n",
    "\n",
    "def run():\n",
    "    while True:\n",
    "        response = input(\"What would you like to do? add/show/remove/quit\")\n",
    "        \n",
    "        if response.lower() == \"quit\":\n",
    "            clear_output()\n",
    "            print(\"You purchased\")\n",
    "            cart.show()\n",
    "            break\n",
    "        elif response.lower() == \"add\":\n",
    "            clear_output()\n",
    "            cart.add_to_cart()\n",
    "        elif response.lower() == \"remove\":\n",
    "            cart.remove_from_cart()\n",
    "        elif response.lower() == \"show\":\n",
    "            clear_output()\n",
    "            cart.show()\n",
    "\n",
    "run()\n"
   ]
  },
  {
   "cell_type": "markdown",
   "metadata": {},
   "source": [
    "### Exercise 2 - Write a Python class which has two methods get_String and print_String. get_String accept a string from the user and print_String print the string in upper case"
   ]
  },
  {
   "cell_type": "code",
   "execution_count": 1,
   "metadata": {},
   "outputs": [
    {
     "name": "stdout",
     "output_type": "stream",
     "text": [
      "Enter string: lksdjf\n",
      "LKSDJF\n"
     ]
    }
   ],
   "source": [
    "class HandleString():\n",
    "     \"\"\"\n",
    "     A representation of a string named string \n",
    "     Attributes:\n",
    "         string(string)\n",
    "     \"\"\"\n",
    "     def __init__(self, string):\n",
    "         self.string = string\n",
    "\n",
    "     def print_string(self):\n",
    "         return self.string.upper()\n",
    "\n",
    "     @classmethod\n",
    "     def get_string(self):\n",
    "         while True:\n",
    "             try:\n",
    "                 string = input('Enter string: ')\n",
    "                 return self(string)\n",
    "             except:\n",
    "                 print('Invalid input!')\n",
    "                 continue\n",
    "\n",
    "#creating a string object and returning it\n",
    "my_string = HandleString.get_string()\n",
    "print(my_string.print_string())"
   ]
  }
 ],
 "metadata": {
  "kernelspec": {
   "display_name": "Python 3",
   "language": "python",
   "name": "python3"
  },
  "language_info": {
   "codemirror_mode": {
    "name": "ipython",
    "version": 3
   },
   "file_extension": ".py",
   "mimetype": "text/x-python",
   "name": "python",
   "nbconvert_exporter": "python",
   "pygments_lexer": "ipython3",
   "version": "3.8.8"
  }
 },
 "nbformat": 4,
 "nbformat_minor": 2
}
